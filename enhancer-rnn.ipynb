{
 "cells": [
  {
   "cell_type": "code",
   "execution_count": 2,
   "id": "6d4d81a5",
   "metadata": {},
   "outputs": [
    {
     "name": "stderr",
     "output_type": "stream",
     "text": [
      "/usr/lib/python3.11/site-packages/h5py/__init__.py:36: UserWarning: h5py is running against HDF5 1.14.1 when it was built against 1.14.0, this may cause problems\n",
      "  _warn((\"h5py is running against HDF5 {0} when it was built against {1}, \"\n"
     ]
    }
   ],
   "source": [
    "# Import libraries\n",
    "\n",
    "import os\n",
    "os.environ['TF_CPP_MIN_LOG_LEVEL'] = '3' \n",
    "from urllib import request\n",
    "\n",
    "import numpy\n",
    "from numpy import random\n",
    "import tensorflow\n",
    "from tensorflow import keras\n",
    "import sklearn\n",
    "from sklearn import model_selection\n",
    "\n",
    "from matplotlib import pyplot\n",
    "\n",
    "import keras_tuner"
   ]
  },
  {
   "cell_type": "code",
   "execution_count": 2,
   "id": "f0d2cefd",
   "metadata": {},
   "outputs": [],
   "source": [
    "# Download data\n",
    "\n",
    "enhancers_filename=\"enhancers.fasta\"\n",
    "nonenhancers_filename=\"nonenhancers.fasta\"\n",
    "\n",
    "if not os.path.exists(enhancers_filename):\n",
    "    request.urlretrieve(\"https://raw.githubusercontent.com/feng-123/Enhancer-LSTMAtt/master/data/layer1/enhancer.cv.txt\", enhancers_filename)\n",
    "    print(\"Downloaded\", enhancers_filename)\n",
    "    \n",
    "if not os.path.exists(nonenhancers_filename):\n",
    "    request.urlretrieve(\"https://raw.githubusercontent.com/feng-123/Enhancer-LSTMAtt/master/data/layer1/non.cv.txt\", nonenhancers_filename)\n",
    "    print(\"Downloaded\", nonenhancers_filename)"
   ]
  },
  {
   "cell_type": "code",
   "execution_count": 52,
   "id": "50861b36",
   "metadata": {},
   "outputs": [
    {
     "name": "stdout",
     "output_type": "stream",
     "text": [
      "Seed for shuffling data: 78\n"
     ]
    }
   ],
   "source": [
    "# Generate random seed for shuffling the data during the split\n",
    "\n",
    "split_seed=random.randint(256)\n",
    "print(\"Seed for shuffling data:\",split_seed)"
   ]
  },
  {
   "cell_type": "code",
   "execution_count": 4,
   "id": "b340df53",
   "metadata": {},
   "outputs": [
    {
     "name": "stdout",
     "output_type": "stream",
     "text": [
      "Read enhancers\n",
      "Read nonenhancers\n",
      "Training data size: 2374\n",
      "Test data size: 594\n"
     ]
    }
   ],
   "source": [
    "# Make training data and test data\n",
    "\n",
    "enhancers_filename=\"enhancers.fasta\"\n",
    "nonenhancers_filename=\"nonenhancers.fasta\"\n",
    "\n",
    "x_data = []\n",
    "y_data = []\n",
    "\n",
    "sequence_length=200\n",
    "\n",
    "with open(enhancers_filename) as enhancers_file:\n",
    "    enhancers_lines=enhancers_file.readlines()\n",
    "    for line in enhancers_lines:\n",
    "        if line[0]==\">\":\n",
    "            continue\n",
    "        x_data+=[line[:sequence_length]]\n",
    "        y_data+=[1]\n",
    "print(\"Read enhancers\")\n",
    "        \n",
    "with open(nonenhancers_filename) as nonenhancers_file:\n",
    "    nonenhancers_lines=nonenhancers_file.readlines()\n",
    "    for line in nonenhancers_lines:\n",
    "        if line[0]==\">\": # Ignore labels\n",
    "            continue\n",
    "        x_data+=[line[:sequence_length]]\n",
    "        y_data+=[0]\n",
    "print(\"Read nonenhancers\")\n",
    "\n",
    "x_data=numpy.array(x_data)\n",
    "y_data=numpy.array(y_data, dtype=float)\n",
    "x_training, x_test, y_training, y_test=model_selection.train_test_split(x_data,y_data, test_size=0.2,shuffle=True,random_state=78)\n",
    "\n",
    "print(\"Training data size:\",len(x_training))\n",
    "print(\"Test data size:\",len(x_test))"
   ]
  },
  {
   "cell_type": "code",
   "execution_count": 5,
   "id": "6dbf5bce",
   "metadata": {},
   "outputs": [],
   "source": [
    "# One-hot encoding\n",
    "\n",
    "base_indices = {\"A\": 0, \"C\": 1, \"G\": 2, \"T\": 3}\n",
    "\n",
    "def to_onehot(dataset):\n",
    "    encoded_dataset=[]\n",
    "    for sequence in dataset:\n",
    "        onehot_sequence=[]\n",
    "        for base in sequence:\n",
    "            onehot=numpy.array([0.0, 0.0, 0.0, 0.0])\n",
    "            onehot[base_indices[base]]=1.0\n",
    "            onehot_sequence+=[onehot]\n",
    "        encoded_dataset+=[onehot_sequence]  \n",
    "    return numpy.array(encoded_dataset)\n",
    "\n",
    "x_training_onehot = to_onehot(x_training)\n",
    "x_test_onehot=to_onehot(x_test)"
   ]
  },
  {
   "cell_type": "code",
   "execution_count": 6,
   "id": "a19a325c",
   "metadata": {},
   "outputs": [],
   "source": [
    "# 3-mer encoding\n",
    "\n",
    "# Create 3-mer dictionary\n",
    "bases=[\"A\",\"C\",\"G\",\"T\"]\n",
    "three_mer_dict={}\n",
    "mapped_integer=0\n",
    "for base_1_index in range(4):\n",
    "    for base_2_index in range(4):\n",
    "        for base_3_index in range(4):\n",
    "            # Compare the ordinal of the forward 3-mer and the reverse complement\n",
    "            forward_ordinal=base_1_index*16+base_2_index*4+base_3_index\n",
    "            reverse_ordinal=(3-base_3_index)*16+(3-base_2_index)*4+(3-base_1_index)\n",
    "            three_mer=bases[base_1_index]+bases[base_2_index]+bases[base_3_index]\n",
    "            if forward_ordinal<reverse_ordinal: # Add to dictionary\n",
    "                three_mer_dict[three_mer]=mapped_integer\n",
    "                mapped_integer+=1\n",
    "            else: # Map to reverse complement\n",
    "                reverse_complement=bases[3-base_3_index]+bases[3-base_2_index]+bases[3-base_1_index]\n",
    "                three_mer_dict[three_mer]=three_mer_dict[reverse_complement]\n",
    "            \n",
    "def to_3mer(dataset):\n",
    "    encoded_dataset=[]\n",
    "    for sequence in dataset:\n",
    "        encoded_sequence=[]\n",
    "        for start_index in range(0,sequence_length-3):\n",
    "            three_mer=sequence[start_index:start_index+3]\n",
    "            mapped_integer=three_mer_dict[three_mer]\n",
    "            encoded_sequence+=[mapped_integer]\n",
    "        encoded_dataset+=[encoded_sequence]\n",
    "    return numpy.array(encoded_dataset)\n",
    "        \n",
    "x_training_3mer=to_3mer(x_training)\n",
    "x_test_3mer=to_3mer(x_test)"
   ]
  },
  {
   "cell_type": "code",
   "execution_count": 35,
   "id": "c47e232e",
   "metadata": {},
   "outputs": [
    {
     "name": "stdout",
     "output_type": "stream",
     "text": [
      "Epoch 1/20\n"
     ]
    },
    {
     "name": "stderr",
     "output_type": "stream",
     "text": [
      "2023-06-03 10:17:24.049532: I tensorflow/core/common_runtime/executor.cc:1197] [/device:CPU:0] (DEBUG INFO) Executor start aborting (this does not indicate an error and you can ignore this message): INVALID_ARGUMENT: You must feed a value for placeholder tensor 'gradients/split_2_grad/concat/split_2/split_dim' with dtype int32\n",
      "\t [[{{node gradients/split_2_grad/concat/split_2/split_dim}}]]\n",
      "2023-06-03 10:17:24.050668: I tensorflow/core/common_runtime/executor.cc:1197] [/device:CPU:0] (DEBUG INFO) Executor start aborting (this does not indicate an error and you can ignore this message): INVALID_ARGUMENT: You must feed a value for placeholder tensor 'gradients/split_grad/concat/split/split_dim' with dtype int32\n",
      "\t [[{{node gradients/split_grad/concat/split/split_dim}}]]\n",
      "2023-06-03 10:17:24.051522: I tensorflow/core/common_runtime/executor.cc:1197] [/device:CPU:0] (DEBUG INFO) Executor start aborting (this does not indicate an error and you can ignore this message): INVALID_ARGUMENT: You must feed a value for placeholder tensor 'gradients/split_1_grad/concat/split_1/split_dim' with dtype int32\n",
      "\t [[{{node gradients/split_1_grad/concat/split_1/split_dim}}]]\n",
      "2023-06-03 10:17:24.144140: I tensorflow/core/common_runtime/executor.cc:1197] [/device:CPU:0] (DEBUG INFO) Executor start aborting (this does not indicate an error and you can ignore this message): INVALID_ARGUMENT: You must feed a value for placeholder tensor 'gradients/ReverseV2_grad/ReverseV2/ReverseV2/axis' with dtype int32 and shape [1]\n",
      "\t [[{{node gradients/ReverseV2_grad/ReverseV2/ReverseV2/axis}}]]\n",
      "2023-06-03 10:17:24.173985: I tensorflow/core/common_runtime/executor.cc:1197] [/device:CPU:0] (DEBUG INFO) Executor start aborting (this does not indicate an error and you can ignore this message): INVALID_ARGUMENT: You must feed a value for placeholder tensor 'gradients/split_2_grad/concat/split_2/split_dim' with dtype int32\n",
      "\t [[{{node gradients/split_2_grad/concat/split_2/split_dim}}]]\n",
      "2023-06-03 10:17:24.174909: I tensorflow/core/common_runtime/executor.cc:1197] [/device:CPU:0] (DEBUG INFO) Executor start aborting (this does not indicate an error and you can ignore this message): INVALID_ARGUMENT: You must feed a value for placeholder tensor 'gradients/split_grad/concat/split/split_dim' with dtype int32\n",
      "\t [[{{node gradients/split_grad/concat/split/split_dim}}]]\n",
      "2023-06-03 10:17:24.175772: I tensorflow/core/common_runtime/executor.cc:1197] [/device:CPU:0] (DEBUG INFO) Executor start aborting (this does not indicate an error and you can ignore this message): INVALID_ARGUMENT: You must feed a value for placeholder tensor 'gradients/split_1_grad/concat/split_1/split_dim' with dtype int32\n",
      "\t [[{{node gradients/split_1_grad/concat/split_1/split_dim}}]]\n",
      "2023-06-03 10:17:24.319253: I tensorflow/core/common_runtime/executor.cc:1197] [/device:CPU:0] (DEBUG INFO) Executor start aborting (this does not indicate an error and you can ignore this message): INVALID_ARGUMENT: You must feed a value for placeholder tensor 'gradients/split_2_grad/concat/split_2/split_dim' with dtype int32\n",
      "\t [[{{node gradients/split_2_grad/concat/split_2/split_dim}}]]\n",
      "2023-06-03 10:17:24.320559: I tensorflow/core/common_runtime/executor.cc:1197] [/device:CPU:0] (DEBUG INFO) Executor start aborting (this does not indicate an error and you can ignore this message): INVALID_ARGUMENT: You must feed a value for placeholder tensor 'gradients/split_grad/concat/split/split_dim' with dtype int32\n",
      "\t [[{{node gradients/split_grad/concat/split/split_dim}}]]\n",
      "2023-06-03 10:17:24.321577: I tensorflow/core/common_runtime/executor.cc:1197] [/device:CPU:0] (DEBUG INFO) Executor start aborting (this does not indicate an error and you can ignore this message): INVALID_ARGUMENT: You must feed a value for placeholder tensor 'gradients/split_1_grad/concat/split_1/split_dim' with dtype int32\n",
      "\t [[{{node gradients/split_1_grad/concat/split_1/split_dim}}]]\n",
      "2023-06-03 10:17:24.418305: I tensorflow/core/common_runtime/executor.cc:1197] [/device:CPU:0] (DEBUG INFO) Executor start aborting (this does not indicate an error and you can ignore this message): INVALID_ARGUMENT: You must feed a value for placeholder tensor 'gradients/ReverseV2_grad/ReverseV2/ReverseV2/axis' with dtype int32 and shape [1]\n",
      "\t [[{{node gradients/ReverseV2_grad/ReverseV2/ReverseV2/axis}}]]\n",
      "2023-06-03 10:17:24.453295: I tensorflow/core/common_runtime/executor.cc:1197] [/device:CPU:0] (DEBUG INFO) Executor start aborting (this does not indicate an error and you can ignore this message): INVALID_ARGUMENT: You must feed a value for placeholder tensor 'gradients/split_2_grad/concat/split_2/split_dim' with dtype int32\n",
      "\t [[{{node gradients/split_2_grad/concat/split_2/split_dim}}]]\n",
      "2023-06-03 10:17:24.454343: I tensorflow/core/common_runtime/executor.cc:1197] [/device:CPU:0] (DEBUG INFO) Executor start aborting (this does not indicate an error and you can ignore this message): INVALID_ARGUMENT: You must feed a value for placeholder tensor 'gradients/split_grad/concat/split/split_dim' with dtype int32\n",
      "\t [[{{node gradients/split_grad/concat/split/split_dim}}]]\n",
      "2023-06-03 10:17:24.455365: I tensorflow/core/common_runtime/executor.cc:1197] [/device:CPU:0] (DEBUG INFO) Executor start aborting (this does not indicate an error and you can ignore this message): INVALID_ARGUMENT: You must feed a value for placeholder tensor 'gradients/split_1_grad/concat/split_1/split_dim' with dtype int32\n",
      "\t [[{{node gradients/split_1_grad/concat/split_1/split_dim}}]]\n",
      "2023-06-03 10:17:24.855342: I tensorflow/core/common_runtime/executor.cc:1197] [/device:CPU:0] (DEBUG INFO) Executor start aborting (this does not indicate an error and you can ignore this message): INVALID_ARGUMENT: You must feed a value for placeholder tensor 'gradients/ReverseV2_grad/ReverseV2/ReverseV2/axis' with dtype int32 and shape [1]\n",
      "\t [[{{node gradients/ReverseV2_grad/ReverseV2/ReverseV2/axis}}]]\n",
      "2023-06-03 10:17:25.402313: I tensorflow/core/common_runtime/executor.cc:1197] [/device:CPU:0] (DEBUG INFO) Executor start aborting (this does not indicate an error and you can ignore this message): INVALID_ARGUMENT: You must feed a value for placeholder tensor 'gradients/split_2_grad/concat/split_2/split_dim' with dtype int32\n",
      "\t [[{{node gradients/split_2_grad/concat/split_2/split_dim}}]]\n",
      "2023-06-03 10:17:25.403562: I tensorflow/core/common_runtime/executor.cc:1197] [/device:CPU:0] (DEBUG INFO) Executor start aborting (this does not indicate an error and you can ignore this message): INVALID_ARGUMENT: You must feed a value for placeholder tensor 'gradients/split_grad/concat/split/split_dim' with dtype int32\n",
      "\t [[{{node gradients/split_grad/concat/split/split_dim}}]]\n",
      "2023-06-03 10:17:25.404525: I tensorflow/core/common_runtime/executor.cc:1197] [/device:CPU:0] (DEBUG INFO) Executor start aborting (this does not indicate an error and you can ignore this message): INVALID_ARGUMENT: You must feed a value for placeholder tensor 'gradients/split_1_grad/concat/split_1/split_dim' with dtype int32\n",
      "\t [[{{node gradients/split_1_grad/concat/split_1/split_dim}}]]\n",
      "2023-06-03 10:17:25.511162: I tensorflow/core/common_runtime/executor.cc:1197] [/device:CPU:0] (DEBUG INFO) Executor start aborting (this does not indicate an error and you can ignore this message): INVALID_ARGUMENT: You must feed a value for placeholder tensor 'gradients/ReverseV2_grad/ReverseV2/ReverseV2/axis' with dtype int32 and shape [1]\n",
      "\t [[{{node gradients/ReverseV2_grad/ReverseV2/ReverseV2/axis}}]]\n",
      "2023-06-03 10:17:25.546386: I tensorflow/core/common_runtime/executor.cc:1197] [/device:CPU:0] (DEBUG INFO) Executor start aborting (this does not indicate an error and you can ignore this message): INVALID_ARGUMENT: You must feed a value for placeholder tensor 'gradients/split_2_grad/concat/split_2/split_dim' with dtype int32\n",
      "\t [[{{node gradients/split_2_grad/concat/split_2/split_dim}}]]\n",
      "2023-06-03 10:17:25.547465: I tensorflow/core/common_runtime/executor.cc:1197] [/device:CPU:0] (DEBUG INFO) Executor start aborting (this does not indicate an error and you can ignore this message): INVALID_ARGUMENT: You must feed a value for placeholder tensor 'gradients/split_grad/concat/split/split_dim' with dtype int32\n",
      "\t [[{{node gradients/split_grad/concat/split/split_dim}}]]\n",
      "2023-06-03 10:17:25.548418: I tensorflow/core/common_runtime/executor.cc:1197] [/device:CPU:0] (DEBUG INFO) Executor start aborting (this does not indicate an error and you can ignore this message): INVALID_ARGUMENT: You must feed a value for placeholder tensor 'gradients/split_1_grad/concat/split_1/split_dim' with dtype int32\n",
      "\t [[{{node gradients/split_1_grad/concat/split_1/split_dim}}]]\n"
     ]
    },
    {
     "name": "stderr",
     "output_type": "stream",
     "text": [
      "2023-06-03 10:17:25.940526: I tensorflow/core/common_runtime/executor.cc:1197] [/device:CPU:0] (DEBUG INFO) Executor start aborting (this does not indicate an error and you can ignore this message): INVALID_ARGUMENT: You must feed a value for placeholder tensor 'gradients/ReverseV2_grad/ReverseV2/ReverseV2/axis' with dtype int32 and shape [1]\n",
      "\t [[{{node gradients/ReverseV2_grad/ReverseV2/ReverseV2/axis}}]]\n",
      "2023-06-03 10:17:27.183488: I tensorflow/compiler/xla/stream_executor/cuda/cuda_dnn.cc:424] Loaded cuDNN version 8800\n",
      "2023-06-03 10:17:27.284095: I tensorflow/compiler/xla/service/service.cc:169] XLA service 0x7f94d40a34a0 initialized for platform CUDA (this does not guarantee that XLA will be used). Devices:\n",
      "2023-06-03 10:17:27.284121: I tensorflow/compiler/xla/service/service.cc:177]   StreamExecutor device (0): NVIDIA GeForce GTX 970, Compute Capability 5.2\n",
      "2023-06-03 10:17:27.297568: I tensorflow/compiler/mlir/tensorflow/utils/dump_mlir_util.cc:269] disabling MLIR crash reproducer, set env var `MLIR_CRASH_REPRODUCER_DIRECTORY` to enable.\n",
      "2023-06-03 10:17:27.471968: I ./tensorflow/compiler/jit/device_compiler.h:180] Compiled cluster using XLA!  This line is logged at most once for the lifetime of the process.\n"
     ]
    },
    {
     "name": "stdout",
     "output_type": "stream",
     "text": [
      "13/15 [=========================>....] - ETA: 0s - loss: 0.6952 - accuracy: 0.4754"
     ]
    },
    {
     "name": "stderr",
     "output_type": "stream",
     "text": [
      "2023-06-03 10:17:28.405071: I tensorflow/core/common_runtime/executor.cc:1197] [/device:CPU:0] (DEBUG INFO) Executor start aborting (this does not indicate an error and you can ignore this message): INVALID_ARGUMENT: You must feed a value for placeholder tensor 'gradients/split_2_grad/concat/split_2/split_dim' with dtype int32\n",
      "\t [[{{node gradients/split_2_grad/concat/split_2/split_dim}}]]\n",
      "2023-06-03 10:17:28.406247: I tensorflow/core/common_runtime/executor.cc:1197] [/device:CPU:0] (DEBUG INFO) Executor start aborting (this does not indicate an error and you can ignore this message): INVALID_ARGUMENT: You must feed a value for placeholder tensor 'gradients/split_grad/concat/split/split_dim' with dtype int32\n",
      "\t [[{{node gradients/split_grad/concat/split/split_dim}}]]\n",
      "2023-06-03 10:17:28.407110: I tensorflow/core/common_runtime/executor.cc:1197] [/device:CPU:0] (DEBUG INFO) Executor start aborting (this does not indicate an error and you can ignore this message): INVALID_ARGUMENT: You must feed a value for placeholder tensor 'gradients/split_1_grad/concat/split_1/split_dim' with dtype int32\n",
      "\t [[{{node gradients/split_1_grad/concat/split_1/split_dim}}]]\n",
      "2023-06-03 10:17:28.495860: I tensorflow/core/common_runtime/executor.cc:1197] [/device:CPU:0] (DEBUG INFO) Executor start aborting (this does not indicate an error and you can ignore this message): INVALID_ARGUMENT: You must feed a value for placeholder tensor 'gradients/ReverseV2_grad/ReverseV2/ReverseV2/axis' with dtype int32 and shape [1]\n",
      "\t [[{{node gradients/ReverseV2_grad/ReverseV2/ReverseV2/axis}}]]\n",
      "2023-06-03 10:17:28.525473: I tensorflow/core/common_runtime/executor.cc:1197] [/device:CPU:0] (DEBUG INFO) Executor start aborting (this does not indicate an error and you can ignore this message): INVALID_ARGUMENT: You must feed a value for placeholder tensor 'gradients/split_2_grad/concat/split_2/split_dim' with dtype int32\n",
      "\t [[{{node gradients/split_2_grad/concat/split_2/split_dim}}]]\n",
      "2023-06-03 10:17:28.526375: I tensorflow/core/common_runtime/executor.cc:1197] [/device:CPU:0] (DEBUG INFO) Executor start aborting (this does not indicate an error and you can ignore this message): INVALID_ARGUMENT: You must feed a value for placeholder tensor 'gradients/split_grad/concat/split/split_dim' with dtype int32\n",
      "\t [[{{node gradients/split_grad/concat/split/split_dim}}]]\n",
      "2023-06-03 10:17:28.527240: I tensorflow/core/common_runtime/executor.cc:1197] [/device:CPU:0] (DEBUG INFO) Executor start aborting (this does not indicate an error and you can ignore this message): INVALID_ARGUMENT: You must feed a value for placeholder tensor 'gradients/split_1_grad/concat/split_1/split_dim' with dtype int32\n",
      "\t [[{{node gradients/split_1_grad/concat/split_1/split_dim}}]]\n"
     ]
    },
    {
     "name": "stdout",
     "output_type": "stream",
     "text": [
      "15/15 [==============================] - 5s 55ms/step - loss: 0.6941 - accuracy: 0.4955 - val_loss: 0.6851 - val_accuracy: 0.6337\n",
      "Epoch 2/20\n",
      "15/15 [==============================] - 0s 22ms/step - loss: 0.6806 - accuracy: 0.6235 - val_loss: 0.6653 - val_accuracy: 0.6842\n",
      "Epoch 3/20\n",
      "15/15 [==============================] - 0s 21ms/step - loss: 0.6657 - accuracy: 0.6482 - val_loss: 0.6450 - val_accuracy: 0.6947\n",
      "Epoch 4/20\n",
      "15/15 [==============================] - 0s 21ms/step - loss: 0.6457 - accuracy: 0.6614 - val_loss: 0.6070 - val_accuracy: 0.7221\n",
      "Epoch 5/20\n",
      "15/15 [==============================] - 0s 21ms/step - loss: 0.5986 - accuracy: 0.6977 - val_loss: 0.5705 - val_accuracy: 0.7158\n",
      "Epoch 6/20\n",
      "15/15 [==============================] - 0s 20ms/step - loss: 0.5706 - accuracy: 0.7088 - val_loss: 0.5286 - val_accuracy: 0.7347\n",
      "Epoch 7/20\n",
      "15/15 [==============================] - 0s 20ms/step - loss: 0.5483 - accuracy: 0.7288 - val_loss: 0.5269 - val_accuracy: 0.7326\n",
      "Epoch 8/20\n",
      "15/15 [==============================] - 0s 20ms/step - loss: 0.5469 - accuracy: 0.7330 - val_loss: 0.4996 - val_accuracy: 0.7495\n",
      "Epoch 9/20\n",
      "15/15 [==============================] - 0s 20ms/step - loss: 0.5411 - accuracy: 0.7383 - val_loss: 0.4900 - val_accuracy: 0.7579\n",
      "Epoch 10/20\n",
      "15/15 [==============================] - 0s 20ms/step - loss: 0.5365 - accuracy: 0.7420 - val_loss: 0.4921 - val_accuracy: 0.7537\n",
      "Epoch 11/20\n",
      "15/15 [==============================] - 0s 20ms/step - loss: 0.5297 - accuracy: 0.7488 - val_loss: 0.4817 - val_accuracy: 0.7600\n",
      "Epoch 12/20\n",
      "15/15 [==============================] - 0s 20ms/step - loss: 0.5268 - accuracy: 0.7457 - val_loss: 0.4822 - val_accuracy: 0.7663\n",
      "Epoch 13/20\n",
      "15/15 [==============================] - 0s 20ms/step - loss: 0.5320 - accuracy: 0.7430 - val_loss: 0.4804 - val_accuracy: 0.7705\n",
      "Epoch 14/20\n",
      "15/15 [==============================] - 0s 21ms/step - loss: 0.5364 - accuracy: 0.7393 - val_loss: 0.5023 - val_accuracy: 0.7621\n",
      "Epoch 15/20\n",
      "15/15 [==============================] - 0s 20ms/step - loss: 0.5386 - accuracy: 0.7409 - val_loss: 0.4839 - val_accuracy: 0.7621\n",
      "Epoch 16/20\n",
      "15/15 [==============================] - 0s 20ms/step - loss: 0.5248 - accuracy: 0.7451 - val_loss: 0.4790 - val_accuracy: 0.7558\n",
      "Epoch 17/20\n",
      "15/15 [==============================] - 0s 20ms/step - loss: 0.5229 - accuracy: 0.7483 - val_loss: 0.4767 - val_accuracy: 0.7726\n",
      "Epoch 18/20\n",
      "15/15 [==============================] - 0s 21ms/step - loss: 0.5240 - accuracy: 0.7457 - val_loss: 0.4757 - val_accuracy: 0.7705\n",
      "Epoch 19/20\n",
      "15/15 [==============================] - 0s 20ms/step - loss: 0.5206 - accuracy: 0.7483 - val_loss: 0.4777 - val_accuracy: 0.7705\n",
      "Epoch 20/20\n",
      "15/15 [==============================] - 0s 20ms/step - loss: 0.5228 - accuracy: 0.7488 - val_loss: 0.4831 - val_accuracy: 0.7600\n"
     ]
    },
    {
     "data": {
      "image/png": "[encoded data removed]",
      "text/plain": [
       "<Figure size 640x480 with 1 Axes>"
      ]
     },
     "metadata": {},
     "output_type": "display_data"
    },
    {
     "name": "stdout",
     "output_type": "stream",
     "text": [
      "Validation accuracy:  0.7705262899398804\n"
     ]
    }
   ],
   "source": [
    "# BiGRU(32) baseline model, one-hot encoding\n",
    "\n",
    "bigru_32_model=keras.models.Sequential([\n",
    "    keras.layers.Bidirectional(keras.layers.GRU(32)),\n",
    "    keras.layers.Dense(1, activation=\"sigmoid\")])\n",
    "\n",
    "early_stopping=tensorflow.keras.callbacks.EarlyStopping(\"val_loss\",patience=5,restore_best_weights=True)\n",
    "\n",
    "bigru_32_model.compile(optimizer=\"adam\", loss=\"binary_crossentropy\", metrics=[\"accuracy\"])\n",
    "history=bigru_32_model.fit(x_training_onehot, y_training,\n",
    "        epochs=20,\n",
    "        batch_size=128,\n",
    "        validation_split=0.2,\n",
    "        callbacks=[early_stopping])\n",
    "loss = history.history['loss']\n",
    "val_loss = history.history['val_loss']\n",
    "epochs = range(len(loss))\n",
    "pyplot.plot(epochs, loss, 'bo', label='Training loss')\n",
    "pyplot.plot(epochs, val_loss, 'b', label='Validation loss')\n",
    "pyplot.title('Training and \\\n",
    "             validation loss')\n",
    "pyplot.legend()\n",
    "pyplot.show()\n",
    "\n",
    "best_accuracy=history.history['val_accuracy'][numpy.argmin(history.history[\"val_loss\"])]\n",
    "print(\"Validation accuracy: \", best_accuracy)"
   ]
  },
  {
   "cell_type": "code",
   "execution_count": 23,
   "id": "f51734ca",
   "metadata": {},
   "outputs": [],
   "source": [
    "# Bayesian optimization\n",
    "\n",
    "def build_model(hp):\n",
    "    embedding_output_dimensions=hp.Choice(\"embedding output dimensions\", [4,16,32])\n",
    "    bigru_layers=hp.Int(\"BiGRU layers\", min_value=1, max_value=4)\n",
    "    bigru_units=hp.Choice(\"BiGRU units\", [32,64,128])\n",
    "    dropout_rate=hp.Float(\"dropout rate\", min_value=0.0, max_value=0.4, step=0.1)\n",
    "    dense_layers=hp.Int(\"dense layers\", min_value=1, max_value=5)\n",
    "    learning_rate=hp.Choice('learning_rate', values=[1e-2, 1e-3])\n",
    "    \n",
    "    input_layer=keras.layers.Input(shape=x_training_3mer.shape[1:])\n",
    "    last_layer=input_layer\n",
    "    last_layer=keras.layers.Embedding(input_dim=32, output_dim=embedding_output_dimensions, input_length=x_training_3mer.shape[1])(last_layer)\n",
    "    \n",
    "    for bigru_layer_index in range(bigru_layers):\n",
    "        if bigru_layer_index==bigru_layers-1:\n",
    "            last_layer=keras.layers.Bidirectional(keras.layers.GRU(bigru_units, return_sequences=False))(last_layer)\n",
    "        else:\n",
    "            last_layer=keras.layers.Bidirectional(keras.layers.GRU(bigru_units, return_sequences=True))(last_layer)\n",
    "    if dropout_rate>0:\n",
    "        last_layer=keras.layers.Dropout(dropout_rate)(last_layer)\n",
    "    last_layer=keras.layers.BatchNormalization()(last_layer)\n",
    "    for dense_layer_index in range(dense_layers-1):\n",
    "        last_layer=keras.layers.Dense(16*2**(dense_layers-dense_layer_index-2))(last_layer)\n",
    "        last_layer=keras.layers.BatchNormalization()(last_layer)\n",
    "    last_layer=keras.layers.Dense(units=1, activation=\"sigmoid\")(last_layer)\n",
    "    \n",
    "    model=keras.Model(inputs=input_layer, outputs=last_layer)\n",
    "    early_stopping=tensorflow.keras.callbacks.EarlyStopping(\"val_loss\",patience=5,restore_best_weights=True)\n",
    "    model.compile(optimizer=keras.optimizers.Adam(learning_rate),\n",
    "              loss='binary_crossentropy',\n",
    "              metrics=['accuracy'])\n",
    "    return model"
   ]
  },
  {
   "cell_type": "code",
   "execution_count": 25,
   "id": "fabcdecd",
   "metadata": {},
   "outputs": [
    {
     "name": "stdout",
     "output_type": "stream",
     "text": [
      "Trial 45 Complete [00h 00m 50s]\n",
      "val_loss: 0.5343820750713348\n",
      "\n",
      "Best val_loss So Far: 0.45300956070423126\n",
      "Total elapsed time: 00h 45m 55s\n",
      "INFO:tensorflow:Oracle triggered exit\n"
     ]
    }
   ],
   "source": [
    "tuner = keras_tuner.BayesianOptimization(\n",
    "    hypermodel=build_model,\n",
    "    objective='val_loss',\n",
    "    executions_per_trial=2,\n",
    "    directory='output',\n",
    "    overwrite=True,\n",
    "    max_trials=45,\n",
    "    num_initial_points=12,\n",
    "    project_name='BiGRU model'\n",
    ")\n",
    "early_stopping=tensorflow.keras.callbacks.EarlyStopping(\"val_loss\",patience=5,restore_best_weights=True)\n",
    "tuner.search(x_training_3mer, y_training,\n",
    "             batch_size=128,\n",
    "             validation_split=0.2,\n",
    "             epochs=25, \n",
    "             callbacks=[early_stopping])"
   ]
  },
  {
   "cell_type": "code",
   "execution_count": 35,
   "id": "d2764ed6",
   "metadata": {},
   "outputs": [
    {
     "name": "stdout",
     "output_type": "stream",
     "text": [
      "WARNING:tensorflow:Detecting that an object or model or tf.train.Checkpoint is being deleted with unrestored values. See the following logs for the specific values in question. To silence these warnings, use `status.expect_partial()`. See https://www.tensorflow.org/api_docs/python/tf/train/Checkpoint#restorefor details about the status object returned by the restore function.\n",
      "WARNING:tensorflow:Value in checkpoint could not be found in the restored object: (root).optimizer._variables.1\n",
      "WARNING:tensorflow:Value in checkpoint could not be found in the restored object: (root).optimizer._variables.2\n",
      "WARNING:tensorflow:Value in checkpoint could not be found in the restored object: (root).optimizer._variables.3\n",
      "WARNING:tensorflow:Value in checkpoint could not be found in the restored object: (root).optimizer._variables.4\n",
      "WARNING:tensorflow:Value in checkpoint could not be found in the restored object: (root).optimizer._variables.5\n",
      "WARNING:tensorflow:Value in checkpoint could not be found in the restored object: (root).optimizer._variables.6\n",
      "WARNING:tensorflow:Value in checkpoint could not be found in the restored object: (root).optimizer._variables.7\n",
      "WARNING:tensorflow:Value in checkpoint could not be found in the restored object: (root).optimizer._variables.8\n",
      "WARNING:tensorflow:Value in checkpoint could not be found in the restored object: (root).optimizer._variables.9\n",
      "WARNING:tensorflow:Value in checkpoint could not be found in the restored object: (root).optimizer._variables.10\n",
      "WARNING:tensorflow:Value in checkpoint could not be found in the restored object: (root).optimizer._variables.11\n",
      "WARNING:tensorflow:Value in checkpoint could not be found in the restored object: (root).optimizer._variables.12\n",
      "WARNING:tensorflow:Value in checkpoint could not be found in the restored object: (root).optimizer._variables.13\n",
      "WARNING:tensorflow:Value in checkpoint could not be found in the restored object: (root).optimizer._variables.14\n",
      "WARNING:tensorflow:Value in checkpoint could not be found in the restored object: (root).optimizer._variables.15\n",
      "WARNING:tensorflow:Value in checkpoint could not be found in the restored object: (root).optimizer._variables.16\n",
      "WARNING:tensorflow:Value in checkpoint could not be found in the restored object: (root).optimizer._variables.17\n",
      "WARNING:tensorflow:Value in checkpoint could not be found in the restored object: (root).optimizer._variables.18\n",
      "WARNING:tensorflow:Value in checkpoint could not be found in the restored object: (root).optimizer._variables.19\n",
      "WARNING:tensorflow:Value in checkpoint could not be found in the restored object: (root).optimizer._variables.20\n",
      "WARNING:tensorflow:Value in checkpoint could not be found in the restored object: (root).optimizer._variables.21\n",
      "WARNING:tensorflow:Value in checkpoint could not be found in the restored object: (root).optimizer._variables.22\n",
      "WARNING:tensorflow:Value in checkpoint could not be found in the restored object: (root).optimizer._variables.23\n",
      "WARNING:tensorflow:Value in checkpoint could not be found in the restored object: (root).optimizer._variables.24\n",
      "WARNING:tensorflow:Value in checkpoint could not be found in the restored object: (root).optimizer._variables.25\n",
      "WARNING:tensorflow:Value in checkpoint could not be found in the restored object: (root).optimizer._variables.26\n",
      "WARNING:tensorflow:Value in checkpoint could not be found in the restored object: (root).optimizer._variables.27\n",
      "WARNING:tensorflow:Value in checkpoint could not be found in the restored object: (root).optimizer._variables.28\n",
      "WARNING:tensorflow:Value in checkpoint could not be found in the restored object: (root).optimizer._variables.29\n",
      "WARNING:tensorflow:Value in checkpoint could not be found in the restored object: (root).optimizer._variables.30\n",
      "WARNING:tensorflow:Value in checkpoint could not be found in the restored object: (root).optimizer._variables.31\n",
      "WARNING:tensorflow:Value in checkpoint could not be found in the restored object: (root).optimizer._variables.32\n",
      "WARNING:tensorflow:Value in checkpoint could not be found in the restored object: (root).optimizer._variables.33\n",
      "WARNING:tensorflow:Value in checkpoint could not be found in the restored object: (root).optimizer._variables.34\n",
      "WARNING:tensorflow:Value in checkpoint could not be found in the restored object: (root).optimizer._variables.35\n",
      "WARNING:tensorflow:Value in checkpoint could not be found in the restored object: (root).optimizer._variables.36\n",
      "WARNING:tensorflow:Value in checkpoint could not be found in the restored object: (root).optimizer._variables.37\n",
      "WARNING:tensorflow:Value in checkpoint could not be found in the restored object: (root).optimizer._variables.38\n",
      "WARNING:tensorflow:Value in checkpoint could not be found in the restored object: (root).optimizer._variables.39\n",
      "WARNING:tensorflow:Value in checkpoint could not be found in the restored object: (root).optimizer._variables.40\n",
      "WARNING:tensorflow:Value in checkpoint could not be found in the restored object: (root).optimizer._variables.41\n",
      "WARNING:tensorflow:Value in checkpoint could not be found in the restored object: (root).optimizer._variables.42\n",
      "WARNING:tensorflow:Value in checkpoint could not be found in the restored object: (root).optimizer._variables.43\n",
      "WARNING:tensorflow:Value in checkpoint could not be found in the restored object: (root).optimizer._variables.44\n",
      "WARNING:tensorflow:Value in checkpoint could not be found in the restored object: (root).optimizer._variables.45\n",
      "WARNING:tensorflow:Value in checkpoint could not be found in the restored object: (root).optimizer._variables.46\n",
      "WARNING:tensorflow:Value in checkpoint could not be found in the restored object: (root).optimizer._variables.47\n",
      "WARNING:tensorflow:Value in checkpoint could not be found in the restored object: (root).optimizer._variables.48\n",
      "WARNING:tensorflow:Value in checkpoint could not be found in the restored object: (root).optimizer._variables.49\n",
      "WARNING:tensorflow:Value in checkpoint could not be found in the restored object: (root).optimizer._variables.50\n",
      "Best values of hyperparameters:\n",
      "embedding output dimensions: 4\n",
      "BiGRU layers: 2\n",
      "BiGRU units: 32\n",
      "dropout rate: 0.30000000000000004\n",
      "dense layers: 3\n",
      "learning_rate: 0.01\n"
     ]
    }
   ],
   "source": [
    "optimized_model=tuner.get_best_models(num_models=1)[0]\n",
    "optimized_model.save(\"optimized_model.keras\")\n",
    "best_hyperparameters=tuner.get_best_hyperparameters()[0].values\n",
    "print(\"Best values of hyperparameters:\")\n",
    "for parameter_name, parameter_value in best_hyperparameters.items():\n",
    "    print(f\"{parameter_name}: {parameter_value}\")"
   ]
  },
  {
   "cell_type": "code",
   "execution_count": 30,
   "id": "cac52247",
   "metadata": {},
   "outputs": [
    {
     "name": "stdout",
     "output_type": "stream",
     "text": [
      "Model: \"model\"\n",
      "_________________________________________________________________\n",
      " Layer (type)                Output Shape              Param #   \n",
      "=================================================================\n",
      " input_1 (InputLayer)        [(None, 197)]             0         \n",
      "                                                                 \n",
      " embedding (Embedding)       (None, 197, 4)            128       \n",
      "                                                                 \n",
      " bidirectional (Bidirectiona  (None, 197, 64)          7296      \n",
      " l)                                                              \n",
      "                                                                 \n",
      " bidirectional_1 (Bidirectio  (None, 64)               18816     \n",
      " nal)                                                            \n",
      "                                                                 \n",
      " dropout (Dropout)           (None, 64)                0         \n",
      "                                                                 \n",
      " batch_normalization (BatchN  (None, 64)               256       \n",
      " ormalization)                                                   \n",
      "                                                                 \n",
      " dense (Dense)               (None, 32)                2080      \n",
      "                                                                 \n",
      " batch_normalization_1 (Batc  (None, 32)               128       \n",
      " hNormalization)                                                 \n",
      "                                                                 \n",
      " dense_1 (Dense)             (None, 16)                528       \n",
      "                                                                 \n",
      " batch_normalization_2 (Batc  (None, 16)               64        \n",
      " hNormalization)                                                 \n",
      "                                                                 \n",
      " dense_2 (Dense)             (None, 1)                 17        \n",
      "                                                                 \n",
      "=================================================================\n",
      "Total params: 29,313\n",
      "Trainable params: 29,089\n",
      "Non-trainable params: 224\n",
      "_________________________________________________________________\n"
     ]
    }
   ],
   "source": [
    "# Print model architecture\n",
    "optimized_model.summary()"
   ]
  },
  {
   "cell_type": "code",
   "execution_count": 25,
   "id": "78ae7b0c",
   "metadata": {},
   "outputs": [
    {
     "name": "stdout",
     "output_type": "stream",
     "text": [
      "19/19 [==============================] - 2s 17ms/step - loss: 0.5057 - accuracy: 0.7609\n",
      "Best model accuracy:  0.7609427571296692\n"
     ]
    }
   ],
   "source": [
    "# Best model test accuracy\n",
    "best_accuracy=optimized_model.evaluate(x_test_3mer, y_test)[1]\n",
    "print(\"Best model accuracy: \", best_accuracy)"
   ]
  },
  {
   "cell_type": "code",
   "execution_count": 29,
   "id": "914763b2",
   "metadata": {},
   "outputs": [
    {
     "name": "stdout",
     "output_type": "stream",
     "text": [
      "19/19 [==============================] - 0s 15ms/step\n",
      "[[235  47]\n",
      " [ 95 217]]\n"
     ]
    }
   ],
   "source": [
    "# Get confusion matrix\n",
    "\n",
    "from sklearn.metrics import confusion_matrix\n",
    "\n",
    "y_predictions=optimized_model.predict(x_test_3mer)\n",
    "y_predictions=numpy.floor(2*y_predictions)\n",
    "print(confusion_matrix(y_test, y_predictions))"
   ]
  },
  {
   "cell_type": "code",
   "execution_count": 11,
   "id": "b349ef56",
   "metadata": {},
   "outputs": [
    {
     "name": "stdout",
     "output_type": "stream",
     "text": [
      "Epoch 1/25\n",
      "15/15 [==============================] - 9s 126ms/step - loss: 0.7077 - accuracy: 0.5919 - val_loss: 0.8740 - val_accuracy: 0.7368\n",
      "Epoch 2/25\n",
      "15/15 [==============================] - 1s 53ms/step - loss: 0.6609 - accuracy: 0.6251 - val_loss: 1.2614 - val_accuracy: 0.4737\n",
      "Epoch 3/25\n",
      "15/15 [==============================] - 1s 53ms/step - loss: 0.6279 - accuracy: 0.6551 - val_loss: 0.7531 - val_accuracy: 0.7116\n",
      "Epoch 4/25\n",
      "15/15 [==============================] - 1s 54ms/step - loss: 0.5745 - accuracy: 0.6919 - val_loss: 0.6479 - val_accuracy: 0.7600\n",
      "Epoch 5/25\n",
      "15/15 [==============================] - 1s 54ms/step - loss: 0.5559 - accuracy: 0.7188 - val_loss: 0.5153 - val_accuracy: 0.7621\n",
      "Epoch 6/25\n",
      "15/15 [==============================] - 1s 54ms/step - loss: 0.5329 - accuracy: 0.7441 - val_loss: 0.4937 - val_accuracy: 0.7495\n",
      "Epoch 7/25\n",
      "15/15 [==============================] - 1s 53ms/step - loss: 0.5168 - accuracy: 0.7536 - val_loss: 0.4610 - val_accuracy: 0.7853\n",
      "Epoch 8/25\n",
      "15/15 [==============================] - 1s 54ms/step - loss: 0.5063 - accuracy: 0.7651 - val_loss: 0.5235 - val_accuracy: 0.7516\n",
      "Epoch 9/25\n",
      "15/15 [==============================] - 1s 53ms/step - loss: 0.5086 - accuracy: 0.7641 - val_loss: 0.4961 - val_accuracy: 0.7705\n",
      "Epoch 10/25\n",
      "15/15 [==============================] - 1s 53ms/step - loss: 0.5055 - accuracy: 0.7683 - val_loss: 0.4745 - val_accuracy: 0.7789\n",
      "Epoch 11/25\n",
      "15/15 [==============================] - 1s 53ms/step - loss: 0.4893 - accuracy: 0.7646 - val_loss: 0.5039 - val_accuracy: 0.7537\n",
      "Epoch 12/25\n",
      "15/15 [==============================] - 1s 54ms/step - loss: 0.5027 - accuracy: 0.7651 - val_loss: 0.5048 - val_accuracy: 0.7516\n"
     ]
    },
    {
     "data": {
      "image/png": "[encoded data removed]",
      "text/plain": [
       "<Figure size 640x480 with 1 Axes>"
      ]
     },
     "metadata": {},
     "output_type": "display_data"
    },
    {
     "name": "stdout",
     "output_type": "stream",
     "text": [
      "19/19 [==============================] - 0s 16ms/step - loss: 0.5297 - accuracy: 0.7407\n",
      "Model 1 test accuracy:  0.7407407164573669\n",
      "Epoch 1/25\n",
      "15/15 [==============================] - 10s 166ms/step - loss: 0.5224 - accuracy: 0.7525 - val_loss: 0.4869 - val_accuracy: 0.7895\n",
      "Epoch 2/25\n",
      "15/15 [==============================] - 1s 53ms/step - loss: 0.5071 - accuracy: 0.7536 - val_loss: 0.5585 - val_accuracy: 0.7811\n",
      "Epoch 3/25\n",
      "15/15 [==============================] - 1s 54ms/step - loss: 0.5029 - accuracy: 0.7551 - val_loss: 0.5587 - val_accuracy: 0.7642\n",
      "Epoch 4/25\n",
      "15/15 [==============================] - 1s 53ms/step - loss: 0.4998 - accuracy: 0.7578 - val_loss: 0.6285 - val_accuracy: 0.7242\n",
      "Epoch 5/25\n",
      "15/15 [==============================] - 1s 53ms/step - loss: 0.4966 - accuracy: 0.7688 - val_loss: 0.5128 - val_accuracy: 0.7853\n",
      "Epoch 6/25\n",
      "15/15 [==============================] - 1s 53ms/step - loss: 0.4939 - accuracy: 0.7678 - val_loss: 0.4586 - val_accuracy: 0.7895\n",
      "Epoch 7/25\n",
      "15/15 [==============================] - 1s 53ms/step - loss: 0.5024 - accuracy: 0.7667 - val_loss: 0.4897 - val_accuracy: 0.7768\n",
      "Epoch 8/25\n",
      "15/15 [==============================] - 1s 54ms/step - loss: 0.4930 - accuracy: 0.7667 - val_loss: 0.4487 - val_accuracy: 0.7895\n",
      "Epoch 9/25\n",
      "15/15 [==============================] - 1s 53ms/step - loss: 0.4967 - accuracy: 0.7699 - val_loss: 0.7818 - val_accuracy: 0.6863\n",
      "Epoch 10/25\n",
      "15/15 [==============================] - 1s 53ms/step - loss: 0.4950 - accuracy: 0.7667 - val_loss: 0.5786 - val_accuracy: 0.7600\n",
      "Epoch 11/25\n",
      "15/15 [==============================] - 1s 53ms/step - loss: 0.4787 - accuracy: 0.7725 - val_loss: 0.5517 - val_accuracy: 0.7411\n",
      "Epoch 12/25\n",
      "15/15 [==============================] - 1s 53ms/step - loss: 0.4871 - accuracy: 0.7699 - val_loss: 0.4815 - val_accuracy: 0.7768\n",
      "Epoch 13/25\n",
      "15/15 [==============================] - 1s 54ms/step - loss: 0.4850 - accuracy: 0.7762 - val_loss: 0.4739 - val_accuracy: 0.7747\n",
      "19/19 [==============================] - 0s 16ms/step - loss: 0.5155 - accuracy: 0.7576\n",
      "Model 2 test accuracy:  0.7575757503509521\n",
      "Epoch 1/25\n",
      "15/15 [==============================] - 1s 55ms/step - loss: 0.4878 - accuracy: 0.7688 - val_loss: 0.4689 - val_accuracy: 0.7768\n",
      "Epoch 2/25\n",
      "15/15 [==============================] - 1s 53ms/step - loss: 0.4871 - accuracy: 0.7709 - val_loss: 0.4923 - val_accuracy: 0.7747\n",
      "Epoch 3/25\n",
      "15/15 [==============================] - 1s 54ms/step - loss: 0.4829 - accuracy: 0.7788 - val_loss: 0.5127 - val_accuracy: 0.7832\n",
      "Epoch 4/25\n",
      "15/15 [==============================] - 1s 53ms/step - loss: 0.4777 - accuracy: 0.7694 - val_loss: 0.5487 - val_accuracy: 0.7726\n",
      "Epoch 5/25\n",
      "15/15 [==============================] - 1s 54ms/step - loss: 0.4829 - accuracy: 0.7794 - val_loss: 0.4660 - val_accuracy: 0.7916\n",
      "Epoch 6/25\n",
      "15/15 [==============================] - 1s 54ms/step - loss: 0.4749 - accuracy: 0.7815 - val_loss: 0.4710 - val_accuracy: 0.7874\n",
      "Epoch 7/25\n",
      "15/15 [==============================] - 1s 53ms/step - loss: 0.4720 - accuracy: 0.7873 - val_loss: 0.4848 - val_accuracy: 0.7789\n",
      "Epoch 8/25\n",
      "15/15 [==============================] - 1s 53ms/step - loss: 0.4674 - accuracy: 0.7767 - val_loss: 0.4727 - val_accuracy: 0.7811\n",
      "Epoch 9/25\n",
      "15/15 [==============================] - 1s 53ms/step - loss: 0.4586 - accuracy: 0.7862 - val_loss: 0.5231 - val_accuracy: 0.7516\n",
      "Epoch 10/25\n",
      "15/15 [==============================] - 1s 54ms/step - loss: 0.4556 - accuracy: 0.7920 - val_loss: 0.6286 - val_accuracy: 0.7432\n",
      "19/19 [==============================] - 2s 16ms/step - loss: 0.5108 - accuracy: 0.7525\n",
      "Model 2 test accuracy:  0.752525269985199\n"
     ]
    }
   ],
   "source": [
    "# Train three instances of the model\n",
    "\n",
    "layers_list=[keras.layers.Input(shape=x_training_3mer.shape[1:])]\n",
    "layers_list+=[keras.layers.Embedding(input_dim=32, output_dim=4, input_length=x_training_3mer.shape[1])]\n",
    "layers_list+=[keras.layers.Bidirectional(keras.layers.GRU(32, return_sequences=True))]\n",
    "layers_list+=[keras.layers.Bidirectional(keras.layers.GRU(32, return_sequences=False))]\n",
    "layers_list+=[keras.layers.Dropout(0.3)]\n",
    "layers_list+=[keras.layers.BatchNormalization()]\n",
    "dense_layers=3\n",
    "for dense_layer_index in range(dense_layers-1):\n",
    "        layers_list+=[keras.layers.Dense(16*2**(dense_layers-dense_layer_index-2))]\n",
    "        layers_list+=[keras.layers.BatchNormalization()]\n",
    "layers_list+=[keras.layers.Dense(units=1, activation=\"sigmoid\")]\n",
    "learning_rate=0.01\n",
    "early_stopping=tensorflow.keras.callbacks.EarlyStopping(\"val_loss\",patience=5,restore_best_weights=True)\n",
    "\n",
    "optimized_model_1=keras.models.Sequential(layers_list)\n",
    "optimized_model_1.compile(optimizer=keras.optimizers.Adam(learning_rate),\n",
    "          loss='binary_crossentropy',\n",
    "          metrics=['accuracy'])\n",
    "history_1=optimized_model_1.fit(x_training_3mer, y_training,\n",
    "             batch_size=128,\n",
    "             validation_split=0.2,\n",
    "             epochs=25, \n",
    "             callbacks=[early_stopping])\n",
    "loss = history_1.history['loss']\n",
    "val_loss = history_1.history['val_loss']\n",
    "epochs = range(len(loss))\n",
    "pyplot.plot(epochs, loss, 'bo', label='Training loss')\n",
    "pyplot.plot(epochs, val_loss, 'b', label='Validation loss')\n",
    "pyplot.title('Training and \\\n",
    "             validation loss')\n",
    "pyplot.legend()\n",
    "pyplot.show()\n",
    "accuracy_1=optimized_model_1.evaluate(x_test_3mer, y_test)[1]\n",
    "print(\"Model 1 test accuracy: \", accuracy_1)\n",
    "\n",
    "optimized_model_2=keras.models.Sequential(layers_list)\n",
    "optimized_model_2.compile(optimizer=keras.optimizers.Adam(learning_rate),\n",
    "          loss='binary_crossentropy',\n",
    "          metrics=['accuracy'])\n",
    "history_2=optimized_model_2.fit(x_training_3mer, y_training,\n",
    "             batch_size=128,\n",
    "             validation_split=0.2,\n",
    "             epochs=25, \n",
    "             callbacks=[early_stopping])\n",
    "accuracy_2=optimized_model_2.evaluate(x_test_3mer, y_test)[1]\n",
    "print(\"Model 2 test accuracy: \", accuracy_2)\n",
    "\n",
    "optimized_model_3=keras.models.Sequential(layers_list)\n",
    "optimized_model_3.compile(optimizer=keras.optimizers.Adam(learning_rate),\n",
    "          loss='binary_crossentropy',\n",
    "          metrics=['accuracy'])\n",
    "history_3=optimized_model_2.fit(x_training_3mer, y_training,\n",
    "             batch_size=128,\n",
    "             validation_split=0.2,\n",
    "             epochs=25, \n",
    "             callbacks=[early_stopping])\n",
    "accuracy_3=optimized_model_3.evaluate(x_test_3mer, y_test)[1]\n",
    "print(\"Model 2 test accuracy: \", accuracy_3)"
   ]
  },
  {
   "cell_type": "code",
   "execution_count": 12,
   "id": "1a1bd0a0",
   "metadata": {},
   "outputs": [
    {
     "name": "stdout",
     "output_type": "stream",
     "text": [
      "Average test accuracy:  0.7502805789311727\n"
     ]
    }
   ],
   "source": [
    "# Calculate average test accuracy\n",
    "average_test_accuracy = (accuracy_1 + accuracy_2 + accuracy_3) / 3\n",
    "print(\"Average test accuracy: \", average_test_accuracy)"
   ]
  },
  {
   "cell_type": "code",
   "execution_count": 14,
   "id": "0a74b664",
   "metadata": {},
   "outputs": [
    {
     "name": "stdout",
     "output_type": "stream",
     "text": [
      "Epoch 1/20\n",
      "15/15 [==============================] - 4s 63ms/step - loss: 0.6810 - accuracy: 0.5708 - val_loss: 0.6573 - val_accuracy: 0.6505\n",
      "Epoch 2/20\n",
      "15/15 [==============================] - 0s 25ms/step - loss: 0.6671 - accuracy: 0.6119 - val_loss: 0.6401 - val_accuracy: 0.6695\n",
      "Epoch 3/20\n",
      "15/15 [==============================] - 0s 25ms/step - loss: 0.6500 - accuracy: 0.6440 - val_loss: 0.6066 - val_accuracy: 0.6989\n",
      "Epoch 4/20\n",
      "15/15 [==============================] - 0s 25ms/step - loss: 0.6110 - accuracy: 0.6756 - val_loss: 0.5246 - val_accuracy: 0.7432\n",
      "Epoch 5/20\n",
      "15/15 [==============================] - 0s 25ms/step - loss: 0.5629 - accuracy: 0.7256 - val_loss: 0.5247 - val_accuracy: 0.7347\n",
      "Epoch 6/20\n",
      "15/15 [==============================] - 0s 25ms/step - loss: 0.5487 - accuracy: 0.7330 - val_loss: 0.4989 - val_accuracy: 0.7411\n",
      "Epoch 7/20\n",
      "15/15 [==============================] - 0s 25ms/step - loss: 0.5414 - accuracy: 0.7425 - val_loss: 0.4983 - val_accuracy: 0.7579\n",
      "Epoch 8/20\n",
      "15/15 [==============================] - 0s 26ms/step - loss: 0.5368 - accuracy: 0.7388 - val_loss: 0.4944 - val_accuracy: 0.7726\n",
      "Epoch 9/20\n",
      "15/15 [==============================] - 0s 25ms/step - loss: 0.5308 - accuracy: 0.7462 - val_loss: 0.4878 - val_accuracy: 0.7663\n",
      "Epoch 10/20\n",
      "15/15 [==============================] - 0s 25ms/step - loss: 0.5296 - accuracy: 0.7514 - val_loss: 0.4936 - val_accuracy: 0.7558\n",
      "Epoch 11/20\n",
      "15/15 [==============================] - 0s 25ms/step - loss: 0.5303 - accuracy: 0.7514 - val_loss: 0.5035 - val_accuracy: 0.7600\n",
      "Epoch 12/20\n",
      "15/15 [==============================] - 0s 25ms/step - loss: 0.5245 - accuracy: 0.7483 - val_loss: 0.5044 - val_accuracy: 0.7811\n",
      "Epoch 13/20\n",
      "15/15 [==============================] - 0s 25ms/step - loss: 0.5331 - accuracy: 0.7383 - val_loss: 0.4888 - val_accuracy: 0.7579\n",
      "Epoch 14/20\n",
      "15/15 [==============================] - 0s 25ms/step - loss: 0.5265 - accuracy: 0.7441 - val_loss: 0.4902 - val_accuracy: 0.7495\n",
      "19/19 [==============================] - 0s 8ms/step - loss: 0.5344 - accuracy: 0.7357\n",
      "Baseline test accuracy:  0.7356902360916138\n"
     ]
    }
   ],
   "source": [
    "# Comparison with baseline\n",
    "\n",
    "bigru_32_model=keras.models.Sequential([\n",
    "    keras.layers.Bidirectional(keras.layers.GRU(32)),\n",
    "    keras.layers.Dense(1, activation=\"sigmoid\")])\n",
    "\n",
    "early_stopping=tensorflow.keras.callbacks.EarlyStopping(\"val_loss\",patience=5,restore_best_weights=True)\n",
    "\n",
    "bigru_32_model.compile(optimizer=\"adam\", loss=\"binary_crossentropy\", metrics=[\"accuracy\"])\n",
    "history=bigru_32_model.fit(x_training_onehot, y_training,\n",
    "        epochs=20,\n",
    "        batch_size=128,\n",
    "        validation_split=0.2,\n",
    "        callbacks=[early_stopping])\n",
    "baseline_test_accuracy=bigru_32_model.evaluate(x_test_onehot, y_test)[1]\n",
    "print(\"Baseline test accuracy: \", baseline_test_accuracy)"
   ]
  }
 ],
 "metadata": {
  "kernelspec": {
   "display_name": "Python 3 (ipykernel)",
   "language": "python",
   "name": "python3"
  },
  "language_info": {
   "codemirror_mode": {
    "name": "ipython",
    "version": 3
   },
   "file_extension": ".py",
   "mimetype": "text/x-python",
   "name": "python",
   "nbconvert_exporter": "python",
   "pygments_lexer": "ipython3",
   "version": "3.11.3"
  }
 },
 "nbformat": 4,
 "nbformat_minor": 5
}
